{
 "cells": [
  {
   "cell_type": "code",
   "execution_count": 1,
   "metadata": {},
   "outputs": [],
   "source": [
    "import pandas as pd \n",
    "import streamlit as st\n",
    "from sklearn.ensemble import GradientBoostingClassifier\n",
    "from sklearn.preprocessing import OrdinalEncoder\n",
    "from sklearn.model_selection import train_test_split\n",
    "\n",
    "st.set_page_config(layout=\"wide\")\n",
    "# Load the dataset\n",
    "df = pd.read_csv(\"C:/Users/DELL/Downloads/DataSets/diabetes_prediction_dataset.csv\")\n",
    "\n",
    "# Preprocessing\n",
    "df.gender = df.gender.map({'Female':0,'Male':1,'Other':2})\n",
    "df.smoking_history = df.smoking_history.map({'never':0, 'No Info':1, 'current':2 ,'former':3, 'ever':4, 'not current':5})\n",
    "\n",
    "# Train-test split\n",
    "x = df.drop(\"diabetes\", axis=1)\n",
    "y = df[\"diabetes\"]\n",
    "x_train, x_test, y_train, y_test = train_test_split(x, y, test_size=0.1)\n",
    "\n",
    "# Train the model\n",
    "model = GradientBoostingClassifier().fit(x_train, y_train)"
   ]
  },
  {
   "cell_type": "code",
   "execution_count": 2,
   "metadata": {},
   "outputs": [],
   "source": [
    "import pickle\n",
    "pickle.dump(model, open('diabetes.pkl','wb'))"
   ]
  }
 ],
 "metadata": {
  "kernelspec": {
   "display_name": "Python 3",
   "language": "python",
   "name": "python3"
  },
  "language_info": {
   "codemirror_mode": {
    "name": "ipython",
    "version": 3
   },
   "file_extension": ".py",
   "mimetype": "text/x-python",
   "name": "python",
   "nbconvert_exporter": "python",
   "pygments_lexer": "ipython3",
   "version": "3.12.1"
  }
 },
 "nbformat": 4,
 "nbformat_minor": 2
}
